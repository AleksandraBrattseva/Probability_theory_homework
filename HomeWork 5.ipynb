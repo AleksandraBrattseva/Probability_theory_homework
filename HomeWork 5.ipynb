{
 "cells": [
  {
   "cell_type": "code",
   "execution_count": 2,
   "id": "7fe373c3",
   "metadata": {},
   "outputs": [],
   "source": [
    "import numpy as np\n",
    "import pandas as pd\n",
    "import scipy.stats as stats"
   ]
  },
  {
   "cell_type": "markdown",
   "id": "4d8977c0",
   "metadata": {},
   "source": [
    "Задача 1. Когда используется критерий Стьюдента, а когда Z –критерий?"
   ]
  },
  {
   "cell_type": "markdown",
   "id": "451b28d6",
   "metadata": {},
   "source": [
    "Ответ: Z-критерий используется, когда известно среднеквадратичное отклонение генеральной совокупности, а также используется односторонний тест. Критерий Стьюдента используется, когда не известно среднеквадратичное отклонение генеральной совокупности, и применяется для проверки равенства средних значений в двух выборках."
   ]
  },
  {
   "cell_type": "markdown",
   "id": "517bf5af",
   "metadata": {},
   "source": [
    "Задача 2. Проведите тест гипотезы. Утверждается, что шарики для подшипников, изготовленные\n",
    "автоматическим станком, имеют средний диаметр 17 мм.\n",
    "Используя односторонний критерий с α=0,05, проверить эту гипотезу, если в выборке из\n",
    "n=100 шариков средний диаметр\n",
    "оказался равным 17.5 мм, а дисперсия известна и равна 4 кв. мм."
   ]
  },
  {
   "cell_type": "markdown",
   "id": "ebda0a0e",
   "metadata": {},
   "source": [
    "Н0: средний диаметр = 17 мм; Н1: средний диаметр > 17 мм. Дано: альфа = 0.05; размер выборки n = 100; среднее значение по выборке X = 17.5; дисперсия = 4, соответственно ско = 2."
   ]
  },
  {
   "cell_type": "code",
   "execution_count": 3,
   "id": "f6bcb0bb",
   "metadata": {},
   "outputs": [
    {
     "data": {
      "text/plain": [
       "0.025"
      ]
     },
     "execution_count": 3,
     "metadata": {},
     "output_type": "execute_result"
    }
   ],
   "source": [
    "alpha = 0.05\n",
    "n = 100\n",
    "std = 2\n",
    "x = 17.5\n",
    "mean = 17\n",
    "t_emp = (x - mean) / (std * np.sqrt(n))\n",
    "t_emp"
   ]
  },
  {
   "cell_type": "markdown",
   "id": "8d6bde71",
   "metadata": {},
   "source": [
    "точка наблюдения = 0.025\n",
    "далее ищем критическую точку"
   ]
  },
  {
   "cell_type": "code",
   "execution_count": 7,
   "id": "014e9359",
   "metadata": {},
   "outputs": [
    {
     "data": {
      "text/plain": [
       "-1.6448536269514729"
      ]
     },
     "execution_count": 7,
     "metadata": {},
     "output_type": "execute_result"
    }
   ],
   "source": [
    "t = stats.norm.ppf(alpha)\n",
    "t"
   ]
  },
  {
   "cell_type": "markdown",
   "id": "797cf938",
   "metadata": {},
   "source": [
    "Вывод: критическая точка меньше точки наблюдения, соответственно гипотеза Н0 не отвергается."
   ]
  },
  {
   "cell_type": "markdown",
   "id": "31dff64b",
   "metadata": {},
   "source": [
    "Задача 3: Проведите тест гипотезы. Продавец утверждает, что средний вес пачки печенья\n",
    "составляет 200 г.\n",
    "Из партии извлечена выборка из 10 пачек. Вес каждой пачки составляет:\n",
    "202, 203, 199, 197, 195, 201, 200, 204, 194, 190.\n",
    "Известно, что их веса распределены нормально.\n",
    "Верно ли утверждение продавца, если учитывать, что доверительная вероятность равна\n",
    "99%? (Провести двусторонний тест.)"
   ]
  },
  {
   "cell_type": "markdown",
   "id": "08e2ec22",
   "metadata": {},
   "source": [
    "Н0: средний вес = 200; Н1: средний вес не равен 200. Дано: альфа = 1 - 0.99 = 0.01; размер выборки n = 10; Не известны среднее и дисперсия генеральной совокупности, для проверки гипотезы будем использовать t критерий."
   ]
  },
  {
   "cell_type": "code",
   "execution_count": 9,
   "id": "b0aec95c",
   "metadata": {},
   "outputs": [
    {
     "data": {
      "text/plain": [
       "198.5"
      ]
     },
     "execution_count": 9,
     "metadata": {},
     "output_type": "execute_result"
    }
   ],
   "source": [
    "cookies = np.array([202, 203, 199, 197, 195, 201, 200, 204, 194, 190])\n",
    "x_mean = np.mean(cookies)\n",
    "x_mean"
   ]
  },
  {
   "cell_type": "code",
   "execution_count": 10,
   "id": "d92f2707",
   "metadata": {},
   "outputs": [
    {
     "data": {
      "text/plain": [
       "19.833333333333332"
      ]
     },
     "execution_count": 10,
     "metadata": {},
     "output_type": "execute_result"
    }
   ],
   "source": [
    "x_v = np.var(cookies, ddof = 1)\n",
    "x_v"
   ]
  },
  {
   "cell_type": "code",
   "execution_count": 12,
   "id": "db170785",
   "metadata": {},
   "outputs": [
    {
     "data": {
      "text/plain": [
       "-1.0651074037450896"
      ]
     },
     "execution_count": 12,
     "metadata": {},
     "output_type": "execute_result"
    }
   ],
   "source": [
    "t_emp = (x_mean - 200) / np.sqrt(x_v / 10)\n",
    "t_emp"
   ]
  },
  {
   "cell_type": "code",
   "execution_count": 15,
   "id": "e474f03a",
   "metadata": {},
   "outputs": [
    {
     "data": {
      "text/plain": [
       "-3.24983554401537"
      ]
     },
     "execution_count": 15,
     "metadata": {},
     "output_type": "execute_result"
    }
   ],
   "source": [
    "alpha = 0.01\n",
    "n = 10\n",
    "t = stats.t.ppf(alpha / 2, df = n - 1)\n",
    "t"
   ]
  },
  {
   "cell_type": "markdown",
   "id": "418313a0",
   "metadata": {},
   "source": [
    "Вывод: критическая точка меньше точки наблюдения, соответственно гипотеза Н0 не отвергается."
   ]
  },
  {
   "cell_type": "markdown",
   "id": "2210b853",
   "metadata": {},
   "source": [
    "Задача 4: Есть ли статистически значимые различия в росте\n",
    "дочерей?\n",
    "Рост матерей 172, 177, 158, 170, 178,175, 164, 160, 169, 165\n",
    "Рост взрослых дочерей: 173, 175, 162, 174, 175, 168, 155, 170, 160, 163"
   ]
  },
  {
   "cell_type": "markdown",
   "id": "c3ebe282",
   "metadata": {},
   "source": [
    "Н0: различий в росте нет; Н1: рост не равен. "
   ]
  },
  {
   "cell_type": "code",
   "execution_count": 17,
   "id": "20894aff",
   "metadata": {},
   "outputs": [
    {
     "data": {
      "text/plain": [
       "Ttest_indResult(statistic=0.4138411497680053, pvalue=0.68387966499013)"
      ]
     },
     "execution_count": 17,
     "metadata": {},
     "output_type": "execute_result"
    }
   ],
   "source": [
    "mother = np.array([172, 177, 158, 170, 178,175, 164, 160, 169, 165])\n",
    "daughter = np.array([173, 175, 162, 174, 175, 168, 155, 170, 160, 163])\n",
    "alpha = 0.05\n",
    "stats.ttest_ind(mother, daughter)"
   ]
  },
  {
   "cell_type": "markdown",
   "id": "e3bda435",
   "metadata": {},
   "source": [
    "Вывод: pvalue больше alpha, значит гипотеза Н0 не отвергается."
   ]
  },
  {
   "cell_type": "code",
   "execution_count": null,
   "id": "f63996dc",
   "metadata": {},
   "outputs": [],
   "source": []
  }
 ],
 "metadata": {
  "kernelspec": {
   "display_name": "Python 3 (ipykernel)",
   "language": "python",
   "name": "python3"
  },
  "language_info": {
   "codemirror_mode": {
    "name": "ipython",
    "version": 3
   },
   "file_extension": ".py",
   "mimetype": "text/x-python",
   "name": "python",
   "nbconvert_exporter": "python",
   "pygments_lexer": "ipython3",
   "version": "3.9.13"
  }
 },
 "nbformat": 4,
 "nbformat_minor": 5
}
