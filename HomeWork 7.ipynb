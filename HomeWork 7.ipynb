{
 "cells": [
  {
   "cell_type": "code",
   "execution_count": 1,
   "id": "00a5370d",
   "metadata": {},
   "outputs": [],
   "source": [
    "import numpy as np\n",
    "import scipy.stats as stats"
   ]
  },
  {
   "cell_type": "markdown",
   "id": "9553a67e",
   "metadata": {},
   "source": [
    "Задача 1. Даны две независимые выборки. Не соблюдается условие нормальности\n",
    "x1 380,420, 290\n",
    "y1 140,360,200,900\n",
    "Сделайте вывод по результатам, полученным с помощью функции"
   ]
  },
  {
   "cell_type": "markdown",
   "id": "3e2170f6",
   "metadata": {},
   "source": [
    "Так как 2 выборки и они независимые выбираем критерий Манна — Уитни"
   ]
  },
  {
   "cell_type": "code",
   "execution_count": 2,
   "id": "eae16513",
   "metadata": {},
   "outputs": [
    {
     "data": {
      "text/plain": [
       "MannwhitneyuResult(statistic=8.0, pvalue=0.6285714285714286)"
      ]
     },
     "execution_count": 2,
     "metadata": {},
     "output_type": "execute_result"
    }
   ],
   "source": [
    "x = np.array([380,420, 290])\n",
    "y = np.array([140,360,200,900])\n",
    "stats.mannwhitneyu(x, y)"
   ]
  },
  {
   "cell_type": "markdown",
   "id": "63468f42",
   "metadata": {},
   "source": [
    "Вывод: alpha = 0.05.\n",
    "pvalue > alpha, соответственно нулевая гипотеза не отвергается. Это значит, что у выборок нет статистически значимых различий."
   ]
  },
  {
   "cell_type": "markdown",
   "id": "f6fe82c7",
   "metadata": {},
   "source": [
    "Задача 2. Исследовалось влияние препарата на уровень давления пациентов. Сначала\n",
    "измерялось давление до приема препарата, потом через 10 минут и через 30 минут. Есть\n",
    "ли статистически значимые различия?\n",
    "1е измерение до приема препарата: 150, 160, 165, 145, 155\n",
    "2е измерение через 10 минут: 140, 155, 150, 130, 135\n",
    "3е измерение через 30 минут: 130, 130, 120, 130, 125"
   ]
  },
  {
   "cell_type": "markdown",
   "id": "c72643bf",
   "metadata": {},
   "source": [
    "Так как 3 выборки и они зависимые выбираем критерий Фридмана"
   ]
  },
  {
   "cell_type": "code",
   "execution_count": 3,
   "id": "40f1aba2",
   "metadata": {},
   "outputs": [
    {
     "data": {
      "text/plain": [
       "FriedmanchisquareResult(statistic=9.578947368421062, pvalue=0.00831683351100441)"
      ]
     },
     "execution_count": 3,
     "metadata": {},
     "output_type": "execute_result"
    }
   ],
   "source": [
    "before = np.array ([150, 160, 165, 145, 155])\n",
    "after_10 = np.array ([140, 155, 150, 130, 135])\n",
    "after_30 = np.array ([130, 130, 120, 130, 125])\n",
    "stats.friedmanchisquare(before, after_10, after_30)"
   ]
  },
  {
   "cell_type": "markdown",
   "id": "89c106d7",
   "metadata": {},
   "source": [
    "Вывод: alpha = 0.05. pvalue < alpha, соответственно нулевая гипотеза отвергается. Это значит, что у выборок есть статистически значимые различия."
   ]
  },
  {
   "cell_type": "markdown",
   "id": "747b430c",
   "metadata": {},
   "source": [
    "Задача 3. Сравните 1 и 2 е измерения, предполагая, что 3го измерения через 30 минут не было."
   ]
  },
  {
   "cell_type": "markdown",
   "id": "08c57f21",
   "metadata": {},
   "source": [
    "Так как 2 выборки и они зависимые выбираем критерий Уилкоксона"
   ]
  },
  {
   "cell_type": "code",
   "execution_count": 4,
   "id": "192098d5",
   "metadata": {},
   "outputs": [
    {
     "data": {
      "text/plain": [
       "WilcoxonResult(statistic=0.0, pvalue=0.0625)"
      ]
     },
     "execution_count": 4,
     "metadata": {},
     "output_type": "execute_result"
    }
   ],
   "source": [
    "before = np.array ([150, 160, 165, 145, 155])\n",
    "after_10 = np.array ([140, 155, 150, 130, 135])\n",
    "stats.wilcoxon(before, after_10)"
   ]
  },
  {
   "cell_type": "markdown",
   "id": "8f26357b",
   "metadata": {},
   "source": [
    "Вывод: alpha = 0.05. pvalue > alpha, соответственно нулевая гипотеза не отвергается. Это значит, что у выборок нет статистически значимых различий."
   ]
  },
  {
   "cell_type": "markdown",
   "id": "3a0050ea",
   "metadata": {},
   "source": [
    "Задача 4. Даны 3 группы учеников плавания.\n",
    "В 1 группе время на дистанцию 50 м составляют:\n",
    "56, 60, 62, 55, 71, 67, 59, 58, 64, 67\n",
    "Вторая группа : 57, 58, 69, 48, 72, 70, 68, 71, 50, 53\n",
    "Третья группа: 57, 67, 49, 48, 47, 55, 66, 51, 54"
   ]
  },
  {
   "cell_type": "markdown",
   "id": "8a21d8c6",
   "metadata": {},
   "source": [
    "Так как 3 выборки и они независимые выбираем критерий Краскела — Уоллиса"
   ]
  },
  {
   "cell_type": "code",
   "execution_count": 5,
   "id": "a17e8899",
   "metadata": {},
   "outputs": [
    {
     "data": {
      "text/plain": [
       "KruskalResult(statistic=5.465564058257224, pvalue=0.0650380998590494)"
      ]
     },
     "execution_count": 5,
     "metadata": {},
     "output_type": "execute_result"
    }
   ],
   "source": [
    "gr_1 = np.array([56, 60, 62, 55, 71, 67, 59, 58, 64, 67])\n",
    "gr_2 = np.array([57, 58, 69, 48, 72, 70, 68, 71, 50, 53])\n",
    "gr_3 = np.array([57, 67, 49, 48, 47, 55, 66, 51, 54])\n",
    "stats.kruskal(gr_1, gr_2, gr_3)"
   ]
  },
  {
   "cell_type": "markdown",
   "id": "904892df",
   "metadata": {},
   "source": [
    "Вывод: alpha = 0.05. pvalue > alpha, соответственно нулевая гипотеза не отвергается. Это значит, что у выборок нет статистически значимых различий."
   ]
  },
  {
   "cell_type": "markdown",
   "id": "e7052aba",
   "metadata": {},
   "source": [
    "Задача 5. Заявляется, что партия изготавливается со средним арифметическим 2,5 см. Проверить\n",
    "данную гипотезу, если известно, что размеры изделий подчинены нормальному закону\n",
    "распределения. Объем выборки 10, уровень статистической значимости 5%\n",
    "2.51, 2.35, 2.74, 2.56, 2.40, 2.36, 2.65, 2.7, 2.67, 2.34"
   ]
  },
  {
   "cell_type": "markdown",
   "id": "549a0293",
   "metadata": {},
   "source": [
    "Н0: средний показатель = 2.5; Н1: средний показатель не равен 2.5. Дано: альфа = 0.05; размер выборки n = 10; Не известны ско и дисперсия генеральной совокупности, для проверки гипотезы будем использовать t критерий."
   ]
  },
  {
   "cell_type": "code",
   "execution_count": 6,
   "id": "3262d4b7",
   "metadata": {},
   "outputs": [
    {
     "data": {
      "text/plain": [
       "2.5279999999999996"
      ]
     },
     "execution_count": 6,
     "metadata": {},
     "output_type": "execute_result"
    }
   ],
   "source": [
    "x = np.array([2.51, 2.35, 2.74, 2.56, 2.40, 2.36, 2.65, 2.7, 2.67, 2.34])\n",
    "x_mean = np.mean(x)\n",
    "x_mean"
   ]
  },
  {
   "cell_type": "code",
   "execution_count": 9,
   "id": "e3ad87bc",
   "metadata": {},
   "outputs": [
    {
     "data": {
      "text/plain": [
       "0.02472888888888891"
      ]
     },
     "execution_count": 9,
     "metadata": {},
     "output_type": "execute_result"
    }
   ],
   "source": [
    "x_v = np.var(x, ddof = 1)\n",
    "x_v"
   ]
  },
  {
   "cell_type": "code",
   "execution_count": 10,
   "id": "ea878a9c",
   "metadata": {},
   "outputs": [
    {
     "data": {
      "text/plain": [
       "0.5630613661802959"
      ]
     },
     "execution_count": 10,
     "metadata": {},
     "output_type": "execute_result"
    }
   ],
   "source": [
    "t_emp = (x_mean - 2.5) / np.sqrt(x_v / 10)\n",
    "t_emp"
   ]
  },
  {
   "cell_type": "code",
   "execution_count": 11,
   "id": "6e9c6c95",
   "metadata": {},
   "outputs": [
    {
     "data": {
      "text/plain": [
       "-2.262157162740992"
      ]
     },
     "execution_count": 11,
     "metadata": {},
     "output_type": "execute_result"
    }
   ],
   "source": [
    "alpha = 0.05\n",
    "n = 10\n",
    "t = stats.t.ppf(alpha / 2, df = n - 1)\n",
    "t"
   ]
  },
  {
   "cell_type": "markdown",
   "id": "6e34f993",
   "metadata": {},
   "source": [
    "Вывод: критическая точка меньше точки наблюдения, соответственно гипотеза Н0 не отвергается, средний показатель = 2.5"
   ]
  }
 ],
 "metadata": {
  "kernelspec": {
   "display_name": "Python 3 (ipykernel)",
   "language": "python",
   "name": "python3"
  },
  "language_info": {
   "codemirror_mode": {
    "name": "ipython",
    "version": 3
   },
   "file_extension": ".py",
   "mimetype": "text/x-python",
   "name": "python",
   "nbconvert_exporter": "python",
   "pygments_lexer": "ipython3",
   "version": "3.9.13"
  }
 },
 "nbformat": 4,
 "nbformat_minor": 5
}
