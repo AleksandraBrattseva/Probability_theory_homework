{
 "cells": [
  {
   "cell_type": "code",
   "execution_count": 25,
   "id": "622daaff",
   "metadata": {},
   "outputs": [],
   "source": [
    "import numpy as np\n",
    "import pandas as pd\n",
    "from scipy import stats"
   ]
  },
  {
   "cell_type": "markdown",
   "id": "3066eb6c",
   "metadata": {},
   "source": [
    "Задача 1: \n",
    "Случайная непрерывная величина A имеет равномерное распределение на\n",
    "промежутке (200, 800].\n",
    "Найдите ее среднее значение и дисперсию"
   ]
  },
  {
   "cell_type": "code",
   "execution_count": 26,
   "id": "4eecd864",
   "metadata": {},
   "outputs": [
    {
     "name": "stdout",
     "output_type": "stream",
     "text": [
      "Среднее значение: М(А) =  500\n",
      "Дисперсия: D(A) =  30000\n"
     ]
    }
   ],
   "source": [
    "def m_and_d(a,b):\n",
    "    return f'Среднее значение: М(А) = {(a + b) / 2: .0f}\\nДисперсия: D(A) = {((b - a) ** 2) / 12: .0f}'\n",
    "print(m_and_d(200,800))"
   ]
  },
  {
   "cell_type": "markdown",
   "id": "81e1c526",
   "metadata": {},
   "source": [
    "Задача 2:\n",
    "О случайной непрерывной равномерно распределенной величине B известно, что ее\n",
    "дисперсия равна 0.2.\n",
    "Можно ли найти правую границу величины B и ее среднее значение зная, что левая\n",
    "граница равна 0.5?\n",
    "Если да, найдите ее."
   ]
  },
  {
   "cell_type": "code",
   "execution_count": 27,
   "id": "651b0025",
   "metadata": {},
   "outputs": [
    {
     "name": "stdout",
     "output_type": "stream",
     "text": [
      "b =  2.049\n",
      "Среднее значение: М(B) =  1.275\n"
     ]
    }
   ],
   "source": [
    "# D(B) = 0.2\n",
    "# a = 0.5\n",
    "# подставляем в формулу D(B) = ((b - a) ** 2) / 12\n",
    "\n",
    "b = 0.5 + 2.4 ** (1/2)\n",
    "print(f'b = {b: .3f}\\nСреднее значение: М(B) = {(b + 0.5) / 2: .3f}')"
   ]
  },
  {
   "cell_type": "markdown",
   "id": "90d8e14d",
   "metadata": {},
   "source": [
    "Задача 3:\n",
    "Непрерывная случайная величина X распределена нормально и задана плотностью\n",
    "распределения\n",
    "f(x) = (1 / (4 * sqrt(2pi))) * exp((-(x+2)**2) / 32)\n",
    "Найдите:\n",
    "а). M(X)\n",
    "б). D(X)\n",
    "в). std(X) (среднее квадратичное отклонение)"
   ]
  },
  {
   "cell_type": "markdown",
   "id": "eba95ea2",
   "metadata": {},
   "source": [
    "Ответ: \n",
    "M(X) = a = -2; \n",
    "D(X) = сигма в квадрате = 16; \n",
    "std(X) (среднее квадратичное отклонение) = 4"
   ]
  },
  {
   "cell_type": "markdown",
   "id": "eacdee7b",
   "metadata": {},
   "source": [
    "Задача 4: \n",
    "Рост взрослого населения города X имеет нормальное распределение, причем, средний рост равен 174 см, а среднее квадратическое отклонение равно 8 см. посчитайте, какова вероятность того, что случайным образом выбранный взрослый человек имеет рост:\n",
    "1. больше 182 см?\n",
    "2. больше 190 см?\n",
    "3. от 166 см до 190 см?\n",
    "4. от 166 см до 182 см?\n",
    "5. от 158 см до 190 см?\n",
    "6. не выше 150 см или не ниже 190 см?\n",
    "7. не выше 150 см или не ниже 198 см?\n",
    "8. ниже 166 см?"
   ]
  },
  {
   "cell_type": "code",
   "execution_count": 28,
   "id": "8c881b3d",
   "metadata": {},
   "outputs": [
    {
     "name": "stdout",
     "output_type": "stream",
     "text": [
      "P(x > 182):  0.1587\n",
      "P(x > 190):  0.0228\n",
      "P(166 < x < 190):  0.8186\n",
      "P(166 < x < 182):  0.6827\n",
      "P(158 < x < 190):  0.9545\n",
      "P(x < 150 ИЛИ x > 190):  0.0241\n",
      "P(x < 150 ИЛИ x > 198):  0.0027\n",
      "P(x < 166):  0.1587\n"
     ]
    }
   ],
   "source": [
    "# 1.\n",
    "print(f'P(x > 182): {1 - stats.norm.cdf(182, loc = 174, scale = 8): .4f}')\n",
    "# 2.\n",
    "print(f'P(x > 190): {1 - stats.norm.cdf(190, loc = 174, scale = 8): .4f}')\n",
    "# 3.\n",
    "a = stats.norm.cdf(190, loc = 174, scale = 8)\n",
    "b = stats.norm.cdf(166, loc = 174, scale = 8)\n",
    "print(f'P(166 < x < 190): {a - b: .4f}')\n",
    "# 4.\n",
    "a = stats.norm.cdf(182, loc = 174, scale = 8)\n",
    "b = stats.norm.cdf(166, loc = 174, scale = 8)\n",
    "print(f'P(166 < x < 182): {a - b: .4f}')\n",
    "# 5.\n",
    "a = stats.norm.cdf(190, loc = 174, scale = 8)\n",
    "b = stats.norm.cdf(158, loc = 174, scale = 8)\n",
    "print(f'P(158 < x < 190): {a - b: .4f}')\n",
    "# 6.\n",
    "a = stats.norm.cdf(150, loc = 174, scale = 8)\n",
    "b = 1 - stats.norm.cdf(190, loc = 174, scale = 8)\n",
    "print(f'P(x < 150 ИЛИ x > 190): {a + b: .4f}')\n",
    "# 7.\n",
    "a = stats.norm.cdf(150, loc = 174, scale = 8)\n",
    "b = 1 - stats.norm.cdf(198, loc = 174, scale = 8)\n",
    "print(f'P(x < 150 ИЛИ x > 198): {a + b: .4f}')\n",
    "# 8.\n",
    "print(f'P(x < 166): {stats.norm.cdf(166, loc = 174, scale = 8): .4f}')"
   ]
  },
  {
   "cell_type": "markdown",
   "id": "ee2a04fa",
   "metadata": {},
   "source": [
    "Задача 5: На сколько сигм (средних квадратичных отклонений) отклоняется рост человека,\n",
    "равный 190 см, от\n",
    "математического ожидания роста в популяции, в которой M(X) = 178 см и D(X) = 25 кв.см?"
   ]
  },
  {
   "cell_type": "code",
   "execution_count": 29,
   "id": "bdd81944",
   "metadata": {},
   "outputs": [
    {
     "data": {
      "text/plain": [
       "2.4"
      ]
     },
     "execution_count": 29,
     "metadata": {},
     "output_type": "execute_result"
    }
   ],
   "source": [
    "# Ищем Z\n",
    "Z = (190 - 178) / 25 ** (1/2)\n",
    "Z"
   ]
  },
  {
   "cell_type": "markdown",
   "id": "ce58b483",
   "metadata": {},
   "source": [
    "Задача 6:\n",
    "Даны значения зарплат из выборки выпускников: \n",
    "\n",
    "100, 80, 75, 77, 89, 33, 45, 25, 65, 17, 30, 24, 57, 55, 70, 75, 65, 84, 90, 150.\n",
    "\n",
    "построить гистограмму распределения, подобрав лучший параметр bins,\n",
    "найти первый и третий квартили, интерквартильное расстояние. Найти выбросы в выборке, используя для этого \"усы\" из boxplot."
   ]
  },
  {
   "cell_type": "code",
   "execution_count": 50,
   "id": "2c7058c7",
   "metadata": {},
   "outputs": [
    {
     "name": "stdout",
     "output_type": "stream",
     "text": [
      "первый квартиль:  42\n",
      "третий квартиль:  81\n",
      "интерквартильное расстояние:  39\n"
     ]
    }
   ],
   "source": [
    "df = pd.DataFrame({'salary':[100, 80, 75, 77, 89, 33, 45, 25, 65, 17, 30, 24, 57, 55, 70, 75, 65, 84, 90, 150]})\n",
    "q1 = df['salary'].quantile(0.25)\n",
    "print(f'первый квартиль: {q1: .0f}')\n",
    "q3 = df['salary'].quantile(0.75)\n",
    "print(f'третий квартиль: {q3: .0f}')\n",
    "print(f'интерквартильное расстояние: {q3 - q1: .0f}')"
   ]
  },
  {
   "cell_type": "code",
   "execution_count": 55,
   "id": "2d01ed06",
   "metadata": {},
   "outputs": [
    {
     "data": {
      "text/plain": [
       "<AxesSubplot:>"
      ]
     },
     "execution_count": 55,
     "metadata": {},
     "output_type": "execute_result"
    },
    {
     "data": {
      "image/png": "[encoded data removed]",
      "text/plain": [
       "<Figure size 640x480 with 1 Axes>"
      ]
     },
     "metadata": {},
     "output_type": "display_data"
    }
   ],
   "source": [
    "df['salary'].hist(bins = 10)"
   ]
  },
  {
   "cell_type": "code",
   "execution_count": 58,
   "id": "5ffafac9",
   "metadata": {},
   "outputs": [
    {
     "data": {
      "text/plain": [
       "<AxesSubplot:>"
      ]
     },
     "execution_count": 58,
     "metadata": {},
     "output_type": "execute_result"
    },
    {
     "data": {
      "image/png": "[encoded data removed]",
      "text/plain": [
       "<Figure size 640x480 with 1 Axes>"
      ]
     },
     "metadata": {},
     "output_type": "display_data"
    }
   ],
   "source": [
    "df[['salary']].boxplot()"
   ]
  },
  {
   "cell_type": "code",
   "execution_count": null,
   "id": "ad693287",
   "metadata": {},
   "outputs": [],
   "source": []
  }
 ],
 "metadata": {
  "kernelspec": {
   "display_name": "Python 3 (ipykernel)",
   "language": "python",
   "name": "python3"
  },
  "language_info": {
   "codemirror_mode": {
    "name": "ipython",
    "version": 3
   },
   "file_extension": ".py",
   "mimetype": "text/x-python",
   "name": "python",
   "nbconvert_exporter": "python",
   "pygments_lexer": "ipython3",
   "version": "3.9.13"
  }
 },
 "nbformat": 4,
 "nbformat_minor": 5
}
