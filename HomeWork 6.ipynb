{
 "cells": [
  {
   "cell_type": "code",
   "execution_count": 1,
   "id": "257efc18",
   "metadata": {},
   "outputs": [],
   "source": [
    "import numpy as np\n",
    "import pandas as pd\n",
    "import scipy.stats as stats"
   ]
  },
  {
   "cell_type": "markdown",
   "id": "572d3b73",
   "metadata": {},
   "source": [
    "Задача 1. Известно, что генеральная совокупность распределена нормально\n",
    "со средним квадратическим отклонением, равным 16.\n",
    "Найти доверительный интервал для оценки математического ожидания a с надежностью\n",
    "0.95,\n",
    "если выборочная средняя M = 80, а объем выборки n = 256."
   ]
  },
  {
   "cell_type": "markdown",
   "id": "9d2e0a17",
   "metadata": {},
   "source": [
    "Известно среднее квадратическое отклонение генеральной совокупности сигма = 16, то будем использовать z критерий.\n",
    "Табличное значение z критерия для 95% доверительного интервала = 1.96; X =среднее значение выборки M = 80; объем выборки n = 256"
   ]
  },
  {
   "cell_type": "code",
   "execution_count": 6,
   "id": "e0996af6",
   "metadata": {},
   "outputs": [
    {
     "name": "stdout",
     "output_type": "stream",
     "text": [
      "Интервал для оценки математического ожидания: [78.04;81.96]\n"
     ]
    }
   ],
   "source": [
    "x1 = 80 - 1.96 * 16 / np.sqrt(256)\n",
    "x2 = 80 + 1.96 * 16 / np.sqrt(256)\n",
    "print(f'Интервал для оценки математического ожидания: [{x1};{x2}]')"
   ]
  },
  {
   "cell_type": "markdown",
   "id": "0e4626cf",
   "metadata": {},
   "source": [
    "Задача 2. В результате 10 независимых измерений некоторой величины X, выполненных с\n",
    "одинаковой точностью,\n",
    "получены опытные данные:\n",
    "6.9, 6.1, 6.2, 6.8, 7.5, 6.3, 6.4, 6.9, 6.7, 6.1\n",
    "Предполагая, что результаты измерений подчинены нормальному закону распределения\n",
    "вероятностей,\n",
    "оценить истинное значение величины X при помощи доверительного интервала,\n",
    "покрывающего это\n",
    "значение с доверительной вероятностью 0,95."
   ]
  },
  {
   "cell_type": "markdown",
   "id": "054a9ecf",
   "metadata": {},
   "source": [
    "Не известно среднее квадратическое отклонение генеральной совокупности, соответственно будем использовать t критерий."
   ]
  },
  {
   "cell_type": "code",
   "execution_count": 7,
   "id": "71bb73ad",
   "metadata": {},
   "outputs": [
    {
     "name": "stdout",
     "output_type": "stream",
     "text": [
      "Среднее выборочное:  6.59,\n",
      "Размер выборки n = 10,\n",
      "Среднее квадратическое отклонение по выборке(несмещенное):  0.45.\n"
     ]
    }
   ],
   "source": [
    "a = np.array([6.9, 6.1, 6.2, 6.8, 7.5, 6.3, 6.4, 6.9, 6.7, 6.1])\n",
    "print(f'Среднее выборочное: {np.mean(a): .2f},\\n'\n",
    "      f'Размер выборки n = {len(a)},\\n'\n",
    "      f'Среднее квадратическое отклонение по выборке(несмещенное): {np.std(a, ddof=1): .2f}.'\n",
    "     )"
   ]
  },
  {
   "cell_type": "code",
   "execution_count": 24,
   "id": "177976b0",
   "metadata": {},
   "outputs": [
    {
     "name": "stdout",
     "output_type": "stream",
     "text": [
      "Табличное значение t-критерия для 95%-го доверительного интервала данной выборки:  2.262\n"
     ]
    }
   ],
   "source": [
    "alpha = 0.05\n",
    "t = stats.t.ppf(1 - alpha / 2, df = 10 - 1)\n",
    "print(f'Табличное значение t-критерия для 95%-го доверительного интервала данной выборки: {t: .3f}')"
   ]
  },
  {
   "cell_type": "code",
   "execution_count": 14,
   "id": "561d0059",
   "metadata": {},
   "outputs": [
    {
     "name": "stdout",
     "output_type": "stream",
     "text": [
      "95%-й доверительный интервал для истинного значения Х: (6.268, 6.912).\n"
     ]
    }
   ],
   "source": [
    "def confidens_int(array, confidens):\n",
    "    return round(np.mean(a) - t * np.std(a, ddof = 1) / len(a) ** 0.5,3), \\\n",
    "           round(np.mean(a) + t * np.std(a, ddof = 1) / len(a) ** 0.5,3)\n",
    "\n",
    "print(f'95%-й доверительный интервал для истинного значения Х: {confidens_int(a, 0.95)}.')"
   ]
  },
  {
   "cell_type": "markdown",
   "id": "cef44b0c",
   "metadata": {},
   "source": [
    "Задача 3: Рост дочерей 175, 167, 154, 174, 178, 148, 160, 167, 169, 170\n",
    "Рост матерей 178, 165, 165, 173, 168, 155, 160, 164, 178, 175\n",
    "Используя эти данные построить 95% доверительный интервал для разности среднего\n",
    "роста родителей и детей."
   ]
  },
  {
   "cell_type": "markdown",
   "id": "4d4346f0",
   "metadata": {},
   "source": [
    "Не известно среднее квадратическое отклонение генеральной совокупности, соответственно будем использовать t критерий для вычисления интервальной оценки для разности среднего арифметического."
   ]
  },
  {
   "cell_type": "code",
   "execution_count": 15,
   "id": "8aa21777",
   "metadata": {},
   "outputs": [
    {
     "data": {
      "text/plain": [
       "(91.06666666666666, 60.10000000000001)"
      ]
     },
     "execution_count": 15,
     "metadata": {},
     "output_type": "execute_result"
    }
   ],
   "source": [
    "daughter = np.array([175, 167, 154, 174, 178, 148, 160, 167, 169, 170])\n",
    "mother = np.array([178, 165, 165, 173, 168, 155, 160, 164, 178, 175])\n",
    "dispersion_d = np.var(daughter, ddof = 1)\n",
    "dispersion_m = np.var(mother, ddof = 1)\n",
    "dispersion_d, dispersion_m"
   ]
  },
  {
   "cell_type": "code",
   "execution_count": 16,
   "id": "c89019fd",
   "metadata": {},
   "outputs": [
    {
     "data": {
      "text/plain": [
       "75.58333333333334"
      ]
     },
     "execution_count": 16,
     "metadata": {},
     "output_type": "execute_result"
    }
   ],
   "source": [
    "D = (dispersion_d + dispersion_m) / 2\n",
    "D"
   ]
  },
  {
   "cell_type": "code",
   "execution_count": 17,
   "id": "0f68afaa",
   "metadata": {},
   "outputs": [
    {
     "data": {
      "text/plain": [
       "(10, 10)"
      ]
     },
     "execution_count": 17,
     "metadata": {},
     "output_type": "execute_result"
    }
   ],
   "source": [
    "n_d = len(daughter)\n",
    "n_m = len(mother)\n",
    "n_d, n_m"
   ]
  },
  {
   "cell_type": "code",
   "execution_count": 18,
   "id": "70395700",
   "metadata": {},
   "outputs": [
    {
     "data": {
      "text/plain": [
       "3.8880157750022915"
      ]
     },
     "execution_count": 18,
     "metadata": {},
     "output_type": "execute_result"
    }
   ],
   "source": [
    "S_delta = np.sqrt((D / n_d) + (D / n_m))\n",
    "S_delta"
   ]
  },
  {
   "cell_type": "code",
   "execution_count": 19,
   "id": "72f67973",
   "metadata": {},
   "outputs": [
    {
     "data": {
      "text/plain": [
       "(166.2, 168.1)"
      ]
     },
     "execution_count": 19,
     "metadata": {},
     "output_type": "execute_result"
    }
   ],
   "source": [
    "m_d = np.mean(daughter)\n",
    "m_m = np.mean(mother)\n",
    "m_d, m_m"
   ]
  },
  {
   "cell_type": "code",
   "execution_count": 20,
   "id": "0300cea5",
   "metadata": {},
   "outputs": [
    {
     "data": {
      "text/plain": [
       "1.9000000000000057"
      ]
     },
     "execution_count": 20,
     "metadata": {},
     "output_type": "execute_result"
    }
   ],
   "source": [
    "delta = m_m - m_d\n",
    "delta"
   ]
  },
  {
   "cell_type": "code",
   "execution_count": 26,
   "id": "5db751d8",
   "metadata": {},
   "outputs": [
    {
     "data": {
      "text/plain": [
       "2.10092204024096"
      ]
     },
     "execution_count": 26,
     "metadata": {},
     "output_type": "execute_result"
    }
   ],
   "source": [
    "alpha = 0.05\n",
    "t = stats.t.ppf(1 - alpha / 2, df = 2 * (10 - 1))\n",
    "t"
   ]
  },
  {
   "cell_type": "code",
   "execution_count": 28,
   "id": "63bbd8c4",
   "metadata": {},
   "outputs": [
    {
     "name": "stdout",
     "output_type": "stream",
     "text": [
      "Интервал : [-6.27; 10.07]\n"
     ]
    }
   ],
   "source": [
    "a = delta - t * S_delta\n",
    "b = delta + t * S_delta\n",
    "print(f'Интервал : [{a: .2f};{b: .2f}]')"
   ]
  }
 ],
 "metadata": {
  "kernelspec": {
   "display_name": "Python 3 (ipykernel)",
   "language": "python",
   "name": "python3"
  },
  "language_info": {
   "codemirror_mode": {
    "name": "ipython",
    "version": 3
   },
   "file_extension": ".py",
   "mimetype": "text/x-python",
   "name": "python",
   "nbconvert_exporter": "python",
   "pygments_lexer": "ipython3",
   "version": "3.9.13"
  }
 },
 "nbformat": 4,
 "nbformat_minor": 5
}
